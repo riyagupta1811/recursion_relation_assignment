{
 "cells": [
  {
   "cell_type": "code",
   "execution_count": null,
   "id": "85d6ac6d-bc68-4239-a166-55a9af9a26dc",
   "metadata": {},
   "outputs": [],
   "source": [
    "#question 1"
   ]
  },
  {
   "cell_type": "markdown",
   "id": "a4134ba0-bbd5-4e0b-81b9-3242cf41f6dc",
   "metadata": {},
   "source": [
    "Using the recurrence relation:\n",
    "T(0)=5\n",
    "T(1) = 3T(0)+ 12(1) = 3(5)+ 12 = 15+12 = 27\n",
    "T(2) = 3T(1)+ 12(2) = 3(27) + 24 = 81 + 24 = 105\n",
    "\n",
    "T(2) = 105"
   ]
  },
  {
   "cell_type": "code",
   "execution_count": null,
   "id": "deb3a1c3-3d9c-4793-9489-d6dc2e9dd683",
   "metadata": {},
   "outputs": [],
   "source": [
    "#question2 "
   ]
  },
  {
   "cell_type": "markdown",
   "id": "72c38cac-fd7b-4625-9db2-fac31771c494",
   "metadata": {},
   "source": [
    "(a) T(n)=T(n−1)+c:\n",
    "\n",
    "Let’s expand this recurrence:\n",
    "T(n)=T(n−1)+c\n",
    "T(n−1)=T(n−2)+c\n",
    "\n",
    "Substituting iteratively, \n",
    "T(n)=T(n−2)+2c, \n",
    "T(n)=T(n−3)+3c, and so on...\n",
    "\n",
    "After k steps, \n",
    "T(n)=T(n−k)+kc\n",
    "\n",
    "When k = n, T(0) is the base case, so:\n",
    "\n",
    "T(n)=T(0)+nc"
   ]
  },
  {
   "cell_type": "markdown",
   "id": "bf33e7d6-afa6-411e-99d8-3ee48c215f80",
   "metadata": {},
   "source": [
    "(b) T(n)=2T(n/2)+n:\n",
    "\n",
    "Substituting iteratively:\n",
    "\n",
    "T(n)=2T(n/2)+n\n",
    "T(n/2)=2T(n/4)+n/2\n",
    "Substituting, \n",
    "T(n)=2(2T(n/4)+n/2)+n=4T(n/4)+2n\n",
    "T(n/4)=2T(n/8)+n/4\n",
    "\n",
    "General form after k steps: \n",
    "𝑇(𝑛)=2𝑘𝑇(𝑛/2𝑘)+𝑘𝑛\n",
    "\n",
    "Stop when n/2k = 1 , so k = log2n\n",
    "substituting k = log2n : T(n)= 2log2nT(1) + nlog2n=nT(1)+nlog2n = nT(1) + nlog2n\n",
    "Assuming T(1) is a constant c, the solution is :\n",
    "\n",
    "T(n) = O(n log n)"
   ]
  },
  {
   "cell_type": "markdown",
   "id": "8da9981d-178f-473a-b51d-31db5a054253",
   "metadata": {},
   "source": [
    "(c) T(n)=2T(n/2)+c :\n",
    "This is similar to (b), but n is replaced with the constant c:\n",
    "\n",
    "General form: T(n) = 2 kT(n/2 k)+kc\n",
    "When n/2k = 1 , k = log2n\n",
    "\n",
    "So: T(n) = 2log2nT(1) + clog2n = nT(1) + clog2n\n",
    "Assuming 𝑇(1) is a constant c1, the solution is:\n",
    "\n",
    "T(n)=O(n)\n",
    "\n"
   ]
  },
  {
   "cell_type": "markdown",
   "id": "fc7796df-6e7f-413b-8a75-c2400a24a066",
   "metadata": {},
   "source": [
    "(d) T(n) = T(n/2) + c :\n",
    "Substitute iteratively:\n",
    "\n",
    "T(n)=T(n/2)+c\n",
    "T(n/2)=T(n/4)+c\n",
    "Substituting , T(n)=T(n/4)+2c , and so on..\n",
    "\n",
    "General form after k steps: T(n) = T(n/2k)+kc\n",
    "Stop when n/2k = 1 ,so k = log2n\n",
    "Substituting k = log2n : T(n) = T(1) + clog2n\n",
    "\n",
    "Assuming T(1) is a constant c1 , the solution is :\n",
    "\n",
    "T(n) = O(logn)"
   ]
  },
  {
   "cell_type": "code",
   "execution_count": null,
   "id": "85e4430c-0a84-4f15-b126-0e979104234f",
   "metadata": {},
   "outputs": [],
   "source": [
    "#question 3"
   ]
  },
  {
   "cell_type": "markdown",
   "id": "73a279a2-4fc2-484f-bfec-c57e18f3642b",
   "metadata": {},
   "source": [
    "(a) T(n) = 2T(n-1)+1 :\n",
    "\n",
    "Recursive tree expansion:\n",
    "\n",
    "Level 0: T(n) = 2T(n-1)+1\n",
    "Level 1: 2T(n-1) = 2(2T(n-2)+1)+1\n",
    "Level 2: 4T(n-2)+2+1\n",
    "Level k: 2kT(n-k)+(2k-1)\n",
    "\n",
    "At the base case,T(0), we have k = n : T(n) = 2nT(0)+(2n-1)\n",
    "\n",
    "Assuming T(0) = c, the solution is T(n) = O(2pow n)\n"
   ]
  },
  {
   "cell_type": "markdown",
   "id": "81cabdb8-09d9-4d91-94dd-1bfda3ebeb92",
   "metadata": {},
   "source": [
    "(b) T(n) = 2T(n/2)+n:\n",
    "Using the recursive tree method:\n",
    "Level0: T(n)=2T(n/2)+n\n",
    "Level1: 2T(n/2) = 2(2T(n/4)+n/2)+n\n",
    "Level2: 4T(n/4)+2n, and so on ...\n",
    "\n",
    "At level k, we have 2kT(n/2k)+kn\n",
    "The recursion stops when n/2k = 1 ,so k = log2n\n",
    "Substituing k = log2n : T(n) = nT(1)+nlog2n\n",
    "\n",
    "Assuming T(1) is constant, the solution is : T(n)=O(nlogn)"
   ]
  },
  {
   "cell_type": "code",
   "execution_count": null,
   "id": "faf0ccec-aa65-4195-8171-c998ea63ead6",
   "metadata": {},
   "outputs": [],
   "source": []
  }
 ],
 "metadata": {
  "kernelspec": {
   "display_name": "Python 3 (ipykernel)",
   "language": "python",
   "name": "python3"
  },
  "language_info": {
   "codemirror_mode": {
    "name": "ipython",
    "version": 3
   },
   "file_extension": ".py",
   "mimetype": "text/x-python",
   "name": "python",
   "nbconvert_exporter": "python",
   "pygments_lexer": "ipython3",
   "version": "3.12.1"
  }
 },
 "nbformat": 4,
 "nbformat_minor": 5
}
